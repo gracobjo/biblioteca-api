{
  "nbformat": 4,
  "nbformat_minor": 0,
  "metadata": {
    "colab": {
      "provenance": [],
      "authorship_tag": "ABX9TyM9zB2lJCOIwLoLjurXJf7s",
      "include_colab_link": true
    },
    "kernelspec": {
      "name": "python3",
      "display_name": "Python 3"
    },
    "language_info": {
      "name": "python"
    }
  },
  "cells": [
    {
      "cell_type": "markdown",
      "metadata": {
        "id": "view-in-github",
        "colab_type": "text"
      },
      "source": [
        "<a href=\"https://colab.research.google.com/github/gracobjo/biblioteca-api/blob/main/demo_colab.ipynb\" target=\"_parent\"><img src=\"https://colab.research.google.com/assets/colab-badge.svg\" alt=\"Open In Colab\"/></a>"
      ]
    },
    {
      "cell_type": "code",
      "execution_count": null,
      "metadata": {
        "id": "eOZ-OxE-QQ6_"
      },
      "outputs": [],
      "source": [
        "# 1. Clonar el repositorio\n",
        "!git clone https://github.com/tu_usuario/eFactura.git\n",
        "%cd eFactura"
      ]
    },
    {
      "cell_type": "code",
      "source": [
        "\n",
        "# 2. Instalar dependencias\n",
        "!pip install -r requirements.txt"
      ],
      "metadata": {
        "id": "2jcQGxXZQipt"
      },
      "execution_count": null,
      "outputs": []
    },
    {
      "cell_type": "code",
      "source": [
        "# 3. Inicializar la base de datos y poblarla\n",
        "import os\n",
        "os.makedirs('instance', exist_ok=True)\n",
        "!python run.py &\n",
        "!python poblar_db.py"
      ],
      "metadata": {
        "id": "HO_k_NAOQnkX"
      },
      "execution_count": null,
      "outputs": []
    },
    {
      "cell_type": "code",
      "source": [
        "# 4. Analizar facturas\n",
        "!python analisis_facturas.py"
      ],
      "metadata": {
        "id": "WLGQ2EwBQq6F"
      },
      "execution_count": null,
      "outputs": []
    },
    {
      "cell_type": "code",
      "source": [
        "# 5. Generar un PDF de ejemplo (opcional)\n",
        "from app import create_app\n",
        "from app.models.factura import Cliente, Item, Factura\n",
        "from app.services import pdf_generator\n",
        "\n",
        "app = create_app()\n",
        "app.app_context().push()\n",
        "\n",
        "cliente = Cliente(\"Demo Colab\", \"Calle Colab 1\", \"COLAB123\")\n",
        "items = [Item(\"Producto Colab\", 1, 99.99)]\n",
        "factura = Factura(cliente, items)\n",
        "pdf_path = pdf_generator.generar_pdf(factura, \"colab_demo\")\n",
        "print(\"PDF generado en:\", pdf_path)"
      ],
      "metadata": {
        "id": "JI01snuEQt9W"
      },
      "execution_count": null,
      "outputs": []
    }
  ]
}